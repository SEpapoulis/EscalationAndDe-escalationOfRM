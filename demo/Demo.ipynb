{
 "cells": [
  {
   "cell_type": "markdown",
   "metadata": {},
   "source": [
    "# Demo Notebook\n",
    "\n",
    "In this notebook, we will show a demo of our RM search pipeline, as well as an example of running numerical simulations to show how the efficiency of memory can alter the outcome of two organisms in competition for resources in the presence of phage. Note that for this demo, BLAST+ and HMMER are both required, however, they are conveniently available for installation via conda:\n",
    "\n",
    "[BLAST+](https://anaconda.org/bioconda/blast)  \n",
    "[HMMER](https://anaconda.org/bioconda/hmmer)\n",
    "\n",
    "The code used to analyze the genus *Microcystis* was applied to over 139,000 Refseq genomes to find full Restriction Modification systems (RMs). If you wish to analyze another Refseq Genomes, you will need to find them in the [Refseq assembly summary](https://ftp.ncbi.nlm.nih.gov/genomes/refseq/assembly_summary_refseq.txt). Additionally, we also show how we use mathematical models to understand the effects of viral memory (through methylation of RMs) on populations under top down control by viruses. These simulations reqiure little memory (1 Gb at most), but they do take a while. Feel free to alter the parameters choosen. See NotebooksAndData/GenMemODE/data/LHS_scheme.csv to look at other replicates we used in our study."
   ]
  },
  {
   "cell_type": "code",
   "execution_count": null,
   "metadata": {},
   "outputs": [],
   "source": [
    "#Data management\n",
    "import pandas as pd\n",
    "\n",
    "#Bioinformatic dependencies\n",
    "from src.pipeline import Comprehensive_Scan\n",
    "#BLAST (locally installed)\n",
    "#HMMER (locally installed)\n",
    "\n",
    "# mathematical modeling\n",
    "from src.GenMemODE import *\n",
    "\n",
    "#Graphing with R\n",
    "%load_ext rpy2.ipython"
   ]
  },
  {
   "cell_type": "code",
   "execution_count": null,
   "metadata": {},
   "outputs": [],
   "source": [
    "#Creating a file to download genbank files from RefSeq via wget\n",
    "\n",
    "#Below is a subset of NotebooksAndData/RMsearch/data/assembly_details.csv that only includes Microcystis\n",
    "assemblies=pd.read_csv('data/RMsearch/demo_assemblies.csv')\n",
    "wget = []\n",
    "for i,row in assemblies.iterrows():\n",
    "    accession = row['ftp'].split('/')[-1]\n",
    "    address = row['ftp']+'/'+accession+'_genomic.gbff.gz'\n",
    "    wget.append(address)\n",
    "with open('data/RMsearch/get_files.txt','w') as f:\n",
    "    f.write('\\n'.join(wget))\n",
    "assemblies"
   ]
  },
  {
   "cell_type": "code",
   "execution_count": null,
   "metadata": {},
   "outputs": [],
   "source": [
    "%%bash\n",
    "wget -P data/RMsearch/demo_genbank/ -i data/RMsearch/get_files.txt"
   ]
  },
  {
   "cell_type": "code",
   "execution_count": null,
   "metadata": {
    "scrolled": true
   },
   "outputs": [],
   "source": [
    "db_location='data/RMsearch/RMsearch_database/'\n",
    "gb_dir='data/RMsearch/demo_genbank/'\n",
    "#fulldataset= db_location+'non-putative_rebase.fasta'\n",
    "HMM_searchspace= db_location+'RMwithFalsepos.hmm'\n",
    "BLASTexceptions= db_location+'BLASTexceptions.fasta'\n",
    "falsepos=db_location+'Falsepos_HMMs.txt'\n",
    "resultsdir= 'data/RMsearch/results/'\n",
    "\n",
    "#If you want to blast the rebase database against each organisms proteome\n",
    "#the probelibrary must be using the file non-putative_rebase.fasta\n",
    "#when probe library is blast exceptions, 10x faster\n",
    "Comprehensive_Scan(target_dir=gb_dir,results_dir=resultsdir,probelibrary=BLASTexceptions,\n",
    "               HMM=HMM_searchspace,BLASTexceptions=BLASTexceptions,\n",
    "                   threads=4,FalsePositiveHMMs=falsepos,TenativePositiveHMMs_list=['ResIII'])\n"
   ]
  },
  {
   "cell_type": "code",
   "execution_count": null,
   "metadata": {},
   "outputs": [],
   "source": [
    "%run src/RM_postprocessing.py"
   ]
  },
  {
   "cell_type": "markdown",
   "metadata": {},
   "source": [
    "# RM postprocessing\n",
    "The RM_Postprocessing script gathers the proteins alignments, either via BLAST or HMMER, and attempts to classify full RMs. For our study, RMs that are not concatinated (type I, type II, type III) are required to be within 4000 base pairs of eachother. This script produces several outputs:\n",
    "1. data/RMsearch/RMdat.csv  \n",
    "    * csv file showing RM count breakdown\n",
    "2. data/RMsearch/pTIIG/pTIIG.fasta\n",
    "    * fasta file of putative type IIG RMs. These proteins are used in sensitive searches via the hhsuite\n",
    "3. data/RMsearch/RMprotclass.csv\n",
    "    * A protein breakdown of what is called a full RMs.\n",
    "\n",
    "__Note:__ RM_postprocessing must be altered if the directories are altered\n",
    "\n",
    "Lets look a report from a single *Microcystis* genome"
   ]
  },
  {
   "cell_type": "code",
   "execution_count": null,
   "metadata": {
    "scrolled": true
   },
   "outputs": [],
   "source": [
    "RMprotclass = pd.read_csv(\"data/RMsearch/RMprotclass.csv\")\n",
    "RMprotclass[RMprotclass['orgid'] == 'GCF_001725075']"
   ]
  },
  {
   "cell_type": "markdown",
   "metadata": {},
   "source": [
    "# Context is used to call RM systems\n",
    "In the report above, we can see that only putative methyltransferases and endonucleases that are not on the same genomic accession (NZ_######) and not 4000 base pairs away are not considered 'clustered'. While each cluster number is arbitrary, they are used to easily identify protein sets that are concidered full RM sysetms, such as cluster 15.0, which is annotated as a type II RM system.\n",
    "\n",
    "Let's look at our final counts"
   ]
  },
  {
   "cell_type": "code",
   "execution_count": null,
   "metadata": {
    "scrolled": true
   },
   "outputs": [],
   "source": [
    "Microcystis = pd.read_csv(\"data/RMsearch/RMdat.csv\")\n",
    "Microcystis"
   ]
  },
  {
   "cell_type": "markdown",
   "metadata": {},
   "source": [
    "As we can see, we have sucessfully counted full RMs in *Microcystis*. We will not analyze the putative type IIG proteins, located in data/RMsearch/pTIIG/pTIIG.fasta because that databases required to run hhsuite are large (> 20GB) and computationally expensive. If you wish to continue to analyze the type IIG proteins, go to section II of our RMsearch notebook at NotebooksAndData/RMsearch/RMsearch_12-11-2018.ipynb. Otherwise, this data represents conservative RM counts used to generate Figure S2."
   ]
  },
  {
   "cell_type": "markdown",
   "metadata": {},
   "source": [
    "# Numerical Simulations\n",
    "\n",
    "We will now use sample code to demonstrate the difference between unique and subset RM communities and how they compare to the general and parallel models. Our community will have 3 organisms. In the subset community shown first, one organism will not have RM, one will have one RM 'A', and one with have two RMs 'A' and 'B'. In our second community, we will still have an organism lacking RM, however, the other two will have RM 'A' and the other will have RM 'B' and 'C'\n",
    "\n",
    "Running the next few cells will take a little bit of time depending on your machine."
   ]
  },
  {
   "cell_type": "code",
   "execution_count": null,
   "metadata": {},
   "outputs": [],
   "source": [
    "def annotate_phage(df):\n",
    "    '''helper function to help R plots'''\n",
    "    temp = []\n",
    "    RM=[]\n",
    "    for el in df['Population']:\n",
    "        RM.append(el.split(' ')[-1])\n",
    "        if 'Phage' in el:\n",
    "            temp.append(\"Phage\")\n",
    "        else:\n",
    "            temp.append(\"Prokaryote\")\n",
    "    df['Organism']=temp\n",
    "    df['RM count']= RM\n",
    "    return(df)\n",
    "\n",
    "t_final = 2000 #length of individual simulations\n",
    "steps = 500 #steps per t\n",
    "Sr_rng = np.logspace(4.5,10,500) #resource range to test\n",
    "alpha,phi,delta_p,delta_c,beta=1.0,1e-8,.2,.2,25.0 #feel free to try different parameters!\n",
    "resistance_func=lambda r:(.01**r) #resistance function\n",
    "cost_func=lambda c:(.1*c) #cost function\n",
    "\n",
    "\n",
    "#3 organsims, one with no RM, one with RM A, and one with RMs A and B\n",
    "orgRM=[[],[\"A\"],[\"A\",\"B\"]] #for the general and parallel models, only absolute count of RMs matter\n"
   ]
  },
  {
   "cell_type": "code",
   "execution_count": null,
   "metadata": {},
   "outputs": [],
   "source": [
    "# General\n",
    "print(\"Running General Model\")\n",
    "r,members,c=General_interaction(orgRM,resistance_function=resistance_func,cost_function=cost_func)\n",
    "initvalues=[('R',1)]\n",
    "for member in members:\n",
    "    initvalues.append(tuple([member,100]))\n",
    "traits=load_traits(alpha,phi,delta_p,delta_c,beta,c,r)\n",
    "dfs =Sr_sweep(Sr_rng,Producer_Consumer_ODE,initvalues,traits,t_final,steps,seed=True)\n",
    "df = find_endpoints(dfs)\n",
    "dfgen = df[['Sr','P_0','P_1','P_2','C']]\n",
    "dfgen.columns=['Sr', 'RM -', \"RM A\", \"RM A&B\", 'Phage']\n",
    "dfgen = pd.melt(dfgen,id_vars='Sr')\n",
    "dfgen.columns = ['Sr','Population','value']\n",
    "dfgen=annotate_phage(dfgen)"
   ]
  },
  {
   "cell_type": "code",
   "execution_count": null,
   "metadata": {},
   "outputs": [],
   "source": [
    "#Parallel\n",
    "print(\"Running Parallel Model\")\n",
    "r,members,c=Parallel_interaction(orgRM,resistance_function=resistance_func,cost_function=cost_func)\n",
    "initvalues=[('R',1)]\n",
    "for member in members:\n",
    "    initvalues.append(tuple([member,100]))\n",
    "traits=load_traits(alpha,phi,delta_p,delta_c,beta,c,r)\n",
    "dfs =Sr_sweep(Sr_rng,Producer_Consumer_ODE,initvalues,traits,t_final,steps,seed=True)\n",
    "df = find_endpoints(dfs)\n",
    "dfpar = df[['Sr','P_0','P_1','P_2','C_0','C_1','C_2']]\n",
    "dfpar.columns=['Sr', 'RM -', \"RM A\", \"RM A&B\", 'Phage -', 'Phage A', 'Phage AB']\n",
    "dfpar = pd.melt(dfpar,id_vars='Sr')\n",
    "dfpar.columns = ['Sr','Population','value']\n",
    "dfpar=annotate_phage(dfpar)"
   ]
  },
  {
   "cell_type": "code",
   "execution_count": null,
   "metadata": {},
   "outputs": [],
   "source": [
    "%%R -i dfgen,dfpar\n",
    "\n",
    "library(\"ggplot2\")\n",
    "library(\"gridExtra\")\n",
    "\n",
    "g_legend<-function(a.gplot){\n",
    "  tmp <- ggplot_gtable(ggplot_build(a.gplot))\n",
    "  leg <- which(sapply(tmp$grobs, function(x) {x$name}) == \"guide-box\")\n",
    "  legend <- tmp$grobs[[leg]]\n",
    "  return(legend)}\n",
    "\n",
    "sim_lim=200                      \n",
    "ylowerlim = 10\n",
    "yupperlim=10^10\n",
    "lsize=1\n",
    "\n",
    "\n",
    "custom_linetype<-scale_linetype_manual(values = c(\"Prokaryote\" = \"solid\",\n",
    "                                                 \"Phage\"=\"dashed\"))\n",
    "custom_colortype<-scale_color_manual(values = c(\"Phage\" = \"red\",\n",
    "                                                 \"RM -\"=\"chartreuse3\",\"Phage -\"=\"chartreuse3\",\n",
    "                                               \"RM A\"=\"darkgoldenrod3\",\"Phage A\"=\"darkgoldenrod3\",\n",
    "                                              \"RM A&B\"=\"orange\",\"Phage AB\"=\"orange\",\n",
    "                                                \"RM B&C\"=\"orange\",\"Phage BC\"=\"orange\"))\n",
    "\n",
    "\n",
    "\n",
    "plt_simpleVC<-function(df){\n",
    "    \n",
    "  plt<-ggplot(df,aes(x=Sr,y=value,color=Population))+\n",
    "  geom_line(aes(linetype=Organism),size=lsize)+custom_linetype+custom_colortype+\n",
    "  theme_bw()+\n",
    "  labs(x=\"Log Resource Inflow (Volume/Time)\",y=\"Log Abundance (AU)\")+\n",
    "  theme(panel.border = element_blank(), panel.grid.minor = element_blank(),panel.grid.major = element_blank(),\n",
    "        axis.line = element_line(color=\"black\"),text = element_text(size=15))+#axis.text=element_text(size=15))+\n",
    "  scale_x_log10(\n",
    "   breaks = scales::trans_breaks(\"log10\", function(x) {10^x}),\n",
    "   labels = scales::trans_format(\"log10\", scales::math_format(.x)))+\n",
    "  scale_y_log10(\n",
    "   breaks = scales::trans_breaks(\"log10\", function(x) {10^x}),\n",
    "   labels = scales::trans_format(\"log10\", scales::math_format(.x)))+\n",
    "  coord_cartesian(ylim=c(ylowerlim,yupperlim))\n",
    "    \n",
    "  return(plt)\n",
    "}\n",
    "\n",
    "A<-plt_simpleVC(dfgen)+labs(title=\"General\")\n",
    "B<-plt_simpleVC(dfpar)+labs(title=\"Parallel\")\n",
    "\n",
    "print(A)\n",
    "print(B)\n"
   ]
  },
  {
   "cell_type": "markdown",
   "metadata": {},
   "source": [
    "# Results - General and Parallel\n",
    "The general model predicts competitive exclusion of low RM organsims to high RM organisms as nutrients increase. The parallel model, however, shows that if organisms are preyed upon by their own phage, we see coexistance between competing hosts.\n",
    "\n",
    "\n",
    "Let's try the memory model. In one situation, RMs will be subsets, while in the other, each organism will have a unqiue set of RM"
   ]
  },
  {
   "cell_type": "code",
   "execution_count": null,
   "metadata": {},
   "outputs": [],
   "source": [
    "#Memory\n",
    "Sr_rng = np.logspace(5,6.5,500)#memory model will have a smaller range of changes\n",
    "orgRM=[[],[\"A\"],[\"A\",\"B\"]] #Subsets\n",
    "print(\"Running Memory Model (Subset)\")\n",
    "r,members,c=Memory_interaction(orgRM,resistance_function=resistance_func,cost_function=cost_func,\n",
    "                              partial_resistance_function=lambda m:(.5**m))#specifying efficiency of memory\n",
    "initvalues=[('R',1)]\n",
    "for member in members:\n",
    "    initvalues.append(tuple([member,100]))\n",
    "traits=load_traits(alpha,phi,delta_p,delta_c,beta,c,r)\n",
    "dfs =Sr_sweep(Sr_rng,GenMem_ODE,initvalues,traits,t_final,steps,seed=True)\n",
    "df = find_endpoints(dfs)\n",
    "dfmem_sub = df[['Sr','P_0','P_1','P_2','C_0','C_1','C_2']]\n",
    "dfmem_sub.columns=['Sr', 'RM -', \"RM A\", \"RM A&B\", 'Phage -', 'Phage A', 'Phage AB']\n",
    "dfmem_sub = pd.melt(dfmem_sub,id_vars='Sr')\n",
    "\n",
    "dfmem_sub.columns = ['Sr','Population','value']\n",
    "dfmem_sub=annotate_phage(dfmem_sub)"
   ]
  },
  {
   "cell_type": "code",
   "execution_count": null,
   "metadata": {},
   "outputs": [],
   "source": [
    "#Memory\n",
    "orgRM=[[],[\"A\"],[\"B\",\"C\"]] #Unique sets!\n",
    "print(\"Running Memory Model (Subset)\")\n",
    "r,members,c=Memory_interaction(orgRM,resistance_function=resistance_func,cost_function=cost_func,\n",
    "                              partial_resistance_function=lambda pr:(.5**pr))\n",
    "initvalues=[('R',1)]\n",
    "for member in members:\n",
    "    initvalues.append(tuple([member,100]))\n",
    "traits=load_traits(alpha,phi,delta_p,delta_c,beta,c,r)\n",
    "dfs =Sr_sweep(Sr_rng,GenMem_ODE,initvalues,traits,t_final,steps,seed=True)\n",
    "df = find_endpoints(dfs)\n",
    "dfmem_unq = df[['Sr','P_0','P_1','P_2','C_0','C_1','C_2']]\n",
    "dfmem_unq.columns=['Sr', 'RM -', \"RM A\", \"RM B&C\", 'Phage -', 'Phage A', 'Phage BC']\n",
    "dfmem_unq = pd.melt(dfmem_unq,id_vars='Sr')\n",
    "\n",
    "dfmem_unq.columns = ['Sr','Population','value']\n",
    "dfmem_unq=annotate_phage(dfmem_unq)"
   ]
  },
  {
   "cell_type": "code",
   "execution_count": null,
   "metadata": {},
   "outputs": [],
   "source": [
    "%%R -i dfmem_sub,dfmem_unq\n",
    "\n",
    "A<-plt_simpleVC(dfmem_sub)+labs(title=\"Memory, Subsets\")\n",
    "B<-plt_simpleVC(dfmem_unq)+labs(title=\"Memory, Unique Sets\")\n",
    "print(A)\n",
    "print(B)"
   ]
  },
  {
   "cell_type": "markdown",
   "metadata": {},
   "source": [
    "# Results - Memory\n",
    "Unique sets foster coexistance while subsets lead to competitive exclusion. This concludes the demo of scripts avalible used this study."
   ]
  }
 ],
 "metadata": {
  "kernelspec": {
   "display_name": "Python 3",
   "language": "python",
   "name": "python3"
  },
  "language_info": {
   "codemirror_mode": {
    "name": "ipython",
    "version": 3
   },
   "file_extension": ".py",
   "mimetype": "text/x-python",
   "name": "python",
   "nbconvert_exporter": "python",
   "pygments_lexer": "ipython3",
   "version": "3.7.4"
  }
 },
 "nbformat": 4,
 "nbformat_minor": 2
}
